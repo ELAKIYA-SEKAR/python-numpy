{
  "nbformat": 4,
  "nbformat_minor": 0,
  "metadata": {
    "colab": {
      "provenance": [],
      "collapsed_sections": []
    },
    "kernelspec": {
      "name": "python3",
      "display_name": "Python 3"
    },
    "language_info": {
      "name": "python"
    }
  },
  "cells": [
    {
      "cell_type": "code",
      "execution_count": null,
      "metadata": {
        "id": "CiNPVbdmilQv"
      },
      "outputs": [],
      "source": [
        "import math\n",
        "import numpy as np\n",
        "import torch\n",
        "import tensorflow as tf"
      ]
    },
    {
      "cell_type": "code",
      "source": [
        "arr=np.random.rand(10000000)\n",
        "li=list(arr)\n",
        "torch_arr=torch.tensor(arr)\n",
        "a=tf.constant(arr,dtype=tf.float64)"
      ],
      "metadata": {
        "id": "XjGqiHVwit_l"
      },
      "execution_count": null,
      "outputs": []
    },
    {
      "cell_type": "code",
      "source": [
        "%timeit list(map(math.sqrt,li))"
      ],
      "metadata": {
        "id": "XP0u1OI7jn7V"
      },
      "execution_count": null,
      "outputs": []
    },
    {
      "cell_type": "code",
      "source": [
        "%timeit np.sqrt(arr)"
      ],
      "metadata": {
        "id": "Fp-4NmbMj-3t"
      },
      "execution_count": null,
      "outputs": []
    },
    {
      "cell_type": "code",
      "source": [
        "%timeit torch_arr.sqrt()"
      ],
      "metadata": {
        "id": "-VlLzQiPkDDp"
      },
      "execution_count": null,
      "outputs": []
    },
    {
      "cell_type": "code",
      "source": [
        "%timeit tf.math.sqrt(a)"
      ],
      "metadata": {
        "id": "ROqq4ZHSkHVy"
      },
      "execution_count": null,
      "outputs": []
    }
  ]
}